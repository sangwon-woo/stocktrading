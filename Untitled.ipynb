{
 "cells": [
  {
   "cell_type": "code",
   "execution_count": 1,
   "id": "222d5b7c-25e5-4b63-8d6d-54827c9412e1",
   "metadata": {},
   "outputs": [],
   "source": [
    "import pandas as pd"
   ]
  },
  {
   "cell_type": "code",
   "execution_count": 2,
   "id": "7293f40d-f12a-4641-a973-6cd4fb46b1e7",
   "metadata": {},
   "outputs": [],
   "source": [
    "kospi = pd.read_feather('total_kospi_data_20211214.arrx')"
   ]
  },
  {
   "cell_type": "code",
   "execution_count": 4,
   "id": "d32d551e-bf3e-42e8-a93c-56a42fe1df18",
   "metadata": {},
   "outputs": [],
   "source": [
    "import os"
   ]
  },
  {
   "cell_type": "code",
   "execution_count": 5,
   "id": "8f8320c8-66a3-446c-afe4-a6c19c474a2e",
   "metadata": {},
   "outputs": [],
   "source": [
    "cpu_count = os.cpu_count()"
   ]
  },
  {
   "cell_type": "code",
   "execution_count": 102,
   "id": "175f7ea6-0699-4116-b7de-fff796bf6a3f",
   "metadata": {},
   "outputs": [],
   "source": [
    "import random"
   ]
  },
  {
   "cell_type": "code",
   "execution_count": 104,
   "id": "4f27b2ed-c5f5-4861-a334-e70537983de6",
   "metadata": {},
   "outputs": [],
   "source": [
    "codes = kospi['종목코드'].unique().to_list()\n",
    "random.shuffle(codes)\n",
    "codes_per_process = len(codes) // cpu_count"
   ]
  },
  {
   "cell_type": "code",
   "execution_count": 106,
   "id": "d1c57150-caa5-4ee1-9dae-af7bb019b356",
   "metadata": {},
   "outputs": [
    {
     "data": {
      "text/plain": [
       "(1740, 54)"
      ]
     },
     "execution_count": 106,
     "metadata": {},
     "output_type": "execute_result"
    }
   ],
   "source": [
    "len(codes), codes_per_process"
   ]
  },
  {
   "cell_type": "code",
   "execution_count": 107,
   "id": "2c6a71d3-8001-462a-bf01-07a99dbe4b34",
   "metadata": {},
   "outputs": [
    {
     "data": {
      "text/plain": [
       "12"
      ]
     },
     "execution_count": 107,
     "metadata": {},
     "output_type": "execute_result"
    }
   ],
   "source": [
    "len(codes) % cpu_count"
   ]
  },
  {
   "cell_type": "code",
   "execution_count": 108,
   "id": "d5ea5a1f-7430-47dc-81ed-24b7fda2d62c",
   "metadata": {},
   "outputs": [
    {
     "name": "stdout",
     "output_type": "stream",
     "text": [
      "start : 0 end : 54, delta : 55\n",
      "102204 0 54\n",
      "start : 55 end : 109, delta : 55\n",
      "111089 55 109\n",
      "start : 110 end : 164, delta : 55\n",
      "97398 110 164\n",
      "start : 165 end : 219, delta : 55\n",
      "117768 165 219\n",
      "start : 220 end : 274, delta : 55\n",
      "101286 220 274\n",
      "start : 275 end : 329, delta : 55\n",
      "87604 275 329\n",
      "start : 330 end : 384, delta : 55\n",
      "105114 330 384\n",
      "start : 385 end : 439, delta : 55\n",
      "101013 385 439\n",
      "start : 440 end : 494, delta : 55\n",
      "103986 440 494\n",
      "start : 495 end : 549, delta : 55\n",
      "95938 495 549\n",
      "start : 550 end : 604, delta : 55\n",
      "95472 550 604\n",
      "start : 605 end : 659, delta : 55\n",
      "77528 605 659\n",
      "start : 660 end : 713, delta : 54\n",
      "111129 660 713\n",
      "start : 714 end : 767, delta : 54\n",
      "103758 714 767\n",
      "start : 768 end : 821, delta : 54\n",
      "102080 768 821\n",
      "start : 822 end : 875, delta : 54\n",
      "85064 822 875\n",
      "start : 876 end : 929, delta : 54\n",
      "104289 876 929\n",
      "start : 930 end : 983, delta : 54\n",
      "91246 930 983\n",
      "start : 984 end : 1037, delta : 54\n",
      "107022 984 1037\n",
      "start : 1038 end : 1091, delta : 54\n",
      "96669 1038 1091\n",
      "start : 1092 end : 1145, delta : 54\n",
      "89305 1092 1145\n",
      "start : 1146 end : 1199, delta : 54\n",
      "111625 1146 1199\n",
      "start : 1200 end : 1253, delta : 54\n",
      "84504 1200 1253\n",
      "start : 1254 end : 1307, delta : 54\n",
      "99972 1254 1307\n",
      "start : 1308 end : 1361, delta : 54\n",
      "104106 1308 1361\n",
      "start : 1362 end : 1415, delta : 54\n",
      "89791 1362 1415\n",
      "start : 1416 end : 1469, delta : 54\n",
      "115626 1416 1469\n",
      "start : 1470 end : 1523, delta : 54\n",
      "93629 1470 1523\n",
      "start : 1524 end : 1577, delta : 54\n",
      "102276 1524 1577\n",
      "start : 1578 end : 1631, delta : 54\n",
      "105423 1578 1631\n",
      "start : 1632 end : 1685, delta : 54\n",
      "102661 1632 1685\n",
      "start : 1686 end : 1739, delta : 54\n",
      "102527 1686 1739\n"
     ]
    }
   ],
   "source": [
    "start = 0\n",
    "for i in range(cpu_count):\n",
    "    end = start + codes_per_process  - 1 if start + codes_per_process -1 <= len(codes) else len(codes) - 1\n",
    "    end = end + 1 if i + 1 <= len(codes) % cpu_count else end\n",
    "    print(f'start : {start} end : {end}, delta : {end - start + 1}')\n",
    "    sub_codes = codes[start:end+1]\n",
    "    sub_df = kospi[kospi['종목코드'].isin(sub_codes)]\n",
    "    print(sub_df.shape[0], start, end)\n",
    "    start = end + 1"
   ]
  },
  {
   "cell_type": "code",
   "execution_count": 95,
   "id": "db60c8cd-4117-4cd7-afb5-8c563d193b1a",
   "metadata": {},
   "outputs": [
    {
     "data": {
      "text/plain": [
       "1740"
      ]
     },
     "execution_count": 95,
     "metadata": {},
     "output_type": "execute_result"
    }
   ],
   "source": [
    "len(kospi['종목코드'].unique()) "
   ]
  },
  {
   "cell_type": "code",
   "execution_count": null,
   "id": "c0caf093-19fa-44db-a1af-83923c5dd663",
   "metadata": {},
   "outputs": [],
   "source": [
    "\n"
   ]
  }
 ],
 "metadata": {
  "kernelspec": {
   "display_name": "Python 3.9 (coin_trading)",
   "language": "python",
   "name": "coin_trading"
  },
  "language_info": {
   "codemirror_mode": {
    "name": "ipython",
    "version": 3
   },
   "file_extension": ".py",
   "mimetype": "text/x-python",
   "name": "python",
   "nbconvert_exporter": "python",
   "pygments_lexer": "ipython3",
   "version": "3.9.0"
  }
 },
 "nbformat": 4,
 "nbformat_minor": 5
}
